{
 "cells": [
  {
   "cell_type": "markdown",
   "metadata": {},
   "source": [
    "## 인스타그램 크롤링\n",
    "- 인스타그램 게시물을 크롤링하여 벡터DB에 저장할 데이터를 구축한다."
   ]
  },
  {
   "cell_type": "code",
   "execution_count": 1,
   "metadata": {},
   "outputs": [],
   "source": [
    "from webdriver_manager.chrome import ChromeDriverManager\n",
    "from selenium.webdriver.chrome.service import Service as ChromeService\n",
    "from selenium.webdriver.common.keys import Keys\n",
    "from selenium.webdriver.common.by import By\n",
    "from selenium.webdriver.chrome.options import Options\n",
    "from selenium.webdriver.support.ui import WebDriverWait\n",
    "from selenium.webdriver.support import expected_conditions as EC\n",
    "from selenium import webdriver\n",
    "from dotenv import load_dotenv\n",
    "from bs4 import BeautifulSoup\n",
    "import os\n",
    "import time\n",
    "import random"
   ]
  },
  {
   "cell_type": "code",
   "execution_count": 2,
   "metadata": {},
   "outputs": [],
   "source": [
    "instagramAccountName = \"ugly_lovely_official\""
   ]
  },
  {
   "cell_type": "code",
   "execution_count": 3,
   "metadata": {},
   "outputs": [
    {
     "data": {
      "text/plain": [
       "1.9993408835762616"
      ]
     },
     "execution_count": 3,
     "metadata": {},
     "output_type": "execute_result"
    }
   ],
   "source": [
    "def random_sleep(min_sleep = 0.01, max_sleep = 0.2):\n",
    "    random_sec = random.uniform(min_sleep, max_sleep)\n",
    "    return random_sec\n",
    "\n",
    "random_sleep(1,2)"
   ]
  },
  {
   "cell_type": "code",
   "execution_count": 4,
   "metadata": {},
   "outputs": [],
   "source": [
    "# load .env\n",
    "load_dotenv()\n",
    "\n",
    "INSTAGRAM_ID = os.environ.get('INSTAGRAM_ID')\n",
    "INSTAGRAM_PASSWORD = os.environ.get('INSTAGRAM_PASSWORD')"
   ]
  },
  {
   "cell_type": "code",
   "execution_count": 5,
   "metadata": {},
   "outputs": [],
   "source": [
    "def click_element_by_xpath(driver, xpath):\n",
    "    try:\n",
    "        element = driver.find_element(By.XPATH, xpath)\n",
    "        element.click()\n",
    "    except Exception as e:\n",
    "        print(f\"Error clicking element by XPATH {xpath}: {e}\")\n",
    "\n",
    "def click_element_by_id(driver, element_id):\n",
    "    try:\n",
    "        element = driver.find_element(By.ID, element_id)\n",
    "        element.click()\n",
    "    except Exception as e:\n",
    "        print(f\"Error clicking element by ID {element_id}: {e}\")\n",
    "\n",
    "def click_element_by_class_name(driver, class_name):\n",
    "    try:\n",
    "        element = driver.find_element(By.CLASS_NAME, class_name)\n",
    "        element.click()\n",
    "    except Exception as e:\n",
    "        print(f\"Error clicking element by class name {class_name}: {e}\")\n",
    "\n",
    "def click_element_by_LINK_TEXT(driver, link_text):\n",
    "    try:\n",
    "        element = driver.find_element(By.LINK_TEXT, link_text)\n",
    "        element.click()\n",
    "    except Exception as e:\n",
    "        print(f\"Error clicking element by class name {link_text}: {e}\")\n",
    "\n"
   ]
  },
  {
   "cell_type": "code",
   "execution_count": 25,
   "metadata": {},
   "outputs": [],
   "source": [
    "# 브라우저 꺼짐 방지 옵션\n",
    "chrome_options = Options()\n",
    "chrome_options.add_argument(\"--start-maximized\")\n",
    "chrome_options.add_experimental_option(\"excludeSwitches\", ['enable-logging'])\n",
    "chrome_options.add_experimental_option(\"detach\", True)\n",
    "chrome_options.add_argument(\"--disable-blink-features=AutomationControlled\")\n",
    "\n",
    "# 드라이버 생성\n",
    "# 크롬 드라이버 서비스 생성\n",
    "service = ChromeService(executable_path=ChromeDriverManager().install())\n",
    "driver = webdriver.Chrome(service=service, options=chrome_options)\n",
    "\n",
    "wait = WebDriverWait(driver, 5)\n",
    "driver.implicitly_wait(time_to_wait=10)\n",
    "driver.get(\"https://instagram.com\")\n",
    "driver.implicitly_wait(time_to_wait=10)\n",
    "\n",
    "\n",
    "login_id = driver.find_element(By.CSS_SELECTOR, 'input[name=\"username\"]')\n",
    "login_id.send_keys(INSTAGRAM_ID) # 아이디 입력\n",
    "random_sleep()\n",
    "login_pwd = driver.find_element(By.CSS_SELECTOR, 'input[name=\"password\"]')\n",
    "login_pwd.send_keys(INSTAGRAM_PASSWORD) # 비번 입력\n",
    "random_sleep()\n",
    "\n",
    "login_id.send_keys(Keys.ENTER) #enter 키를 쳐주세요\n",
    "driver.implicitly_wait(10)\n"
   ]
  },
  {
   "cell_type": "code",
   "execution_count": 24,
   "metadata": {},
   "outputs": [],
   "source": [
    "def add_address(driver,elements_dict) :\n",
    "    # BeautifulSoup를 사용하여 페이지 소스 파싱\n",
    "    soup = BeautifulSoup(driver.page_source, 'html.parser')\n",
    "\n",
    "    # 모든 게시글 링크 추출\n",
    "    for a in soup.find_all('a', href=True):\n",
    "        if a['href'].startswith('/p/'):\n",
    "            element = \"https://instagram.com\" + a['href']\n",
    "            elements_dict[f'{element}'] = element\n",
    "        if a['href'].startswith('/reel/'):\n",
    "            element = \"https://instagram.com\" + a['href']\n",
    "            elements_dict[f'{element}'] = element\n"
   ]
  },
  {
   "cell_type": "code",
   "execution_count": 26,
   "metadata": {},
   "outputs": [
    {
     "name": "stdout",
     "output_type": "stream",
     "text": [
      "24\n",
      "36\n",
      "48\n",
      "60\n",
      "72\n",
      "75\n",
      "75\n"
     ]
    }
   ],
   "source": [
    "adURL= f\"https://instagram.com/{instagramAccountName}\"\n",
    "driver.get(adURL)\n",
    "\n",
    "# 추가 게시물 확인 및 데이터 로딩\n",
    "# 페이지 로딩 후 스크롤\n",
    "SCROLL_PAUSE_TIME = 3\n",
    "last_height = driver.execute_script(\"return document.body.scrollHeight\")\n",
    "elements_dict = {}\n",
    "\n",
    "add_address(driver,elements_dict)\n",
    "\n",
    "while True:\n",
    "    # 스크롤 다운\n",
    "    driver.execute_script(\"window.scrollTo(0, document.body.scrollHeight);\")\n",
    "\n",
    "    # 로딩 대기\n",
    "    time.sleep(SCROLL_PAUSE_TIME)\n",
    "\n",
    "    add_address(driver,elements_dict)\n",
    "    print(len(elements_dict))\n",
    "\n",
    "\n",
    "    # 새로운 높이 계산\n",
    "    new_height = driver.execute_script(\"return document.body.scrollHeight\")\n",
    "\n",
    "    # 높이가 변하지 않으면 스크롤 종료\n",
    "    if new_height == last_height:\n",
    "        break\n",
    "\n",
    "    last_height = new_height"
   ]
  },
  {
   "cell_type": "code",
   "execution_count": 27,
   "metadata": {},
   "outputs": [
    {
     "name": "stdout",
     "output_type": "stream",
     "text": [
      "{'https://instagram.com/p/C86btSNPCr6/': 'https://instagram.com/p/C86btSNPCr6/', 'https://instagram.com/p/C8vhtc4SEpJ/': 'https://instagram.com/p/C8vhtc4SEpJ/', 'https://instagram.com/p/C8eHmypPtwO/': 'https://instagram.com/p/C8eHmypPtwO/', 'https://instagram.com/p/C8WYyJ-OXLV/': 'https://instagram.com/p/C8WYyJ-OXLV/', 'https://instagram.com/p/C8LzDTmOmNm/': 'https://instagram.com/p/C8LzDTmOmNm/', 'https://instagram.com/reel/C8EUa39s_Rr/': 'https://instagram.com/reel/C8EUa39s_Rr/', 'https://instagram.com/p/C8BnLNSPtyS/': 'https://instagram.com/p/C8BnLNSPtyS/', 'https://instagram.com/p/C75yDicu78m/': 'https://instagram.com/p/C75yDicu78m/', 'https://instagram.com/p/C70x0MiOlrz/': 'https://instagram.com/p/C70x0MiOlrz/', 'https://instagram.com/reel/C7xeTQzsKFr/': 'https://instagram.com/reel/C7xeTQzsKFr/', 'https://instagram.com/p/C7nNJu4v8xs/': 'https://instagram.com/p/C7nNJu4v8xs/', 'https://instagram.com/reel/C7i9gpEMfIH/': 'https://instagram.com/reel/C7i9gpEMfIH/', 'https://instagram.com/p/C7WGlHPuSZU/': 'https://instagram.com/p/C7WGlHPuSZU/', 'https://instagram.com/p/C7Ld3VDOOFP/': 'https://instagram.com/p/C7Ld3VDOOFP/', 'https://instagram.com/p/C7BTNG5uvoh/': 'https://instagram.com/p/C7BTNG5uvoh/', 'https://instagram.com/reel/C65erRdsuIX/': 'https://instagram.com/reel/C65erRdsuIX/', 'https://instagram.com/p/C6vaLMouGJT/': 'https://instagram.com/p/C6vaLMouGJT/', 'https://instagram.com/p/C6qQ7sNulQ6/': 'https://instagram.com/p/C6qQ7sNulQ6/', 'https://instagram.com/p/C6fycUROEIx/': 'https://instagram.com/p/C6fycUROEIx/', 'https://instagram.com/p/C6YPSJ2rZ_7/': 'https://instagram.com/p/C6YPSJ2rZ_7/', 'https://instagram.com/p/C6LZn5euw_V/': 'https://instagram.com/p/C6LZn5euw_V/', 'https://instagram.com/p/C6Dlm6euJ4_/': 'https://instagram.com/p/C6Dlm6euJ4_/', 'https://instagram.com/p/C57vyT7uFy5/': 'https://instagram.com/p/C57vyT7uFy5/', 'https://instagram.com/reel/C5mb_JVsiop/': 'https://instagram.com/reel/C5mb_JVsiop/', 'https://instagram.com/p/C5fnB4uubkF/': 'https://instagram.com/p/C5fnB4uubkF/', 'https://instagram.com/p/C5NliJBOnYg/': 'https://instagram.com/p/C5NliJBOnYg/', 'https://instagram.com/p/C4zuHfNuTen/': 'https://instagram.com/p/C4zuHfNuTen/', 'https://instagram.com/p/C4ugo_YOzQj/': 'https://instagram.com/p/C4ugo_YOzQj/', 'https://instagram.com/p/C4ek4IQL_iS/': 'https://instagram.com/p/C4ek4IQL_iS/', 'https://instagram.com/p/C4Z50AROGys/': 'https://instagram.com/p/C4Z50AROGys/', 'https://instagram.com/p/C4IGqYtuJkp/': 'https://instagram.com/p/C4IGqYtuJkp/', 'https://instagram.com/p/C4FY6V_pp4-/': 'https://instagram.com/p/C4FY6V_pp4-/', 'https://instagram.com/p/C389KHPvjMw/': 'https://instagram.com/p/C389KHPvjMw/', 'https://instagram.com/p/C3pMkKROWn1/': 'https://instagram.com/p/C3pMkKROWn1/', 'https://instagram.com/p/C3hdhj_ulXx/': 'https://instagram.com/p/C3hdhj_ulXx/', 'https://instagram.com/p/C3Zg6lHO9Rk/': 'https://instagram.com/p/C3Zg6lHO9Rk/', 'https://instagram.com/p/C3UgSl9OncX/': 'https://instagram.com/p/C3UgSl9OncX/', 'https://instagram.com/p/C3HJZOqOWYg/': 'https://instagram.com/p/C3HJZOqOWYg/', 'https://instagram.com/p/C26WOHgpENw/': 'https://instagram.com/p/C26WOHgpENw/', 'https://instagram.com/p/C2wiHuxOsTt/': 'https://instagram.com/p/C2wiHuxOsTt/', 'https://instagram.com/p/C2rbsmbuChl/': 'https://instagram.com/p/C2rbsmbuChl/', 'https://instagram.com/p/C2ejTXeudl6/': 'https://instagram.com/p/C2ejTXeudl6/', 'https://instagram.com/p/C2Y0tBHLDBL/': 'https://instagram.com/p/C2Y0tBHLDBL/', 'https://instagram.com/p/C2RlITqOXqp/': 'https://instagram.com/p/C2RlITqOXqp/', 'https://instagram.com/reel/C2MZ7WUp4am/': 'https://instagram.com/reel/C2MZ7WUp4am/', 'https://instagram.com/p/C1_iNAHpe6S/': 'https://instagram.com/p/C1_iNAHpe6S/', 'https://instagram.com/p/C19A7U6RB62/': 'https://instagram.com/p/C19A7U6RB62/', 'https://instagram.com/p/C1oXfLfRbz_/': 'https://instagram.com/p/C1oXfLfRbz_/', 'https://instagram.com/p/C01NW-HRb2G/': 'https://instagram.com/p/C01NW-HRb2G/', 'https://instagram.com/p/C0yTYDTRqs5/': 'https://instagram.com/p/C0yTYDTRqs5/', 'https://instagram.com/p/C0yTTbAxE6M/': 'https://instagram.com/p/C0yTTbAxE6M/', 'https://instagram.com/p/C0yTLHvx317/': 'https://instagram.com/p/C0yTLHvx317/', 'https://instagram.com/p/C0xoTIbRpVG/': 'https://instagram.com/p/C0xoTIbRpVG/', 'https://instagram.com/p/C0xoIBex-Im/': 'https://instagram.com/p/C0xoIBex-Im/', 'https://instagram.com/p/C0vwA9xRhAd/': 'https://instagram.com/p/C0vwA9xRhAd/', 'https://instagram.com/p/C0lZcKRxP1Q/': 'https://instagram.com/p/C0lZcKRxP1Q/', 'https://instagram.com/p/C0lZXOkRcJ4/': 'https://instagram.com/p/C0lZXOkRcJ4/', 'https://instagram.com/p/C0i07tqrGtj/': 'https://instagram.com/p/C0i07tqrGtj/', 'https://instagram.com/p/C0duMmNxfAH/': 'https://instagram.com/p/C0duMmNxfAH/', 'https://instagram.com/p/C0duGO1RD5z/': 'https://instagram.com/p/C0duGO1RD5z/', 'https://instagram.com/p/C0bGS20RrXs/': 'https://instagram.com/p/C0bGS20RrXs/', 'https://instagram.com/p/C0Q0nMaRfMy/': 'https://instagram.com/p/C0Q0nMaRfMy/', 'https://instagram.com/p/C0OPr9zRhyA/': 'https://instagram.com/p/C0OPr9zRhyA/', 'https://instagram.com/p/C0JH0F0RfGL/': 'https://instagram.com/p/C0JH0F0RfGL/', 'https://instagram.com/p/CzrqiJ_hH2N/': 'https://instagram.com/p/CzrqiJ_hH2N/', 'https://instagram.com/p/CznsZHEvmX9/': 'https://instagram.com/p/CznsZHEvmX9/', 'https://instagram.com/p/CzlP80sPQ0u/': 'https://instagram.com/p/CzlP80sPQ0u/', 'https://instagram.com/p/CzlO9LbvaRk/': 'https://instagram.com/p/CzlO9LbvaRk/', 'https://instagram.com/reel/Czk-AbwPraW/': 'https://instagram.com/reel/Czk-AbwPraW/', 'https://instagram.com/p/CzYRfAJvzF5/': 'https://instagram.com/p/CzYRfAJvzF5/', 'https://instagram.com/reel/CzLS2rCv2BP/': 'https://instagram.com/reel/CzLS2rCv2BP/', 'https://instagram.com/p/CyvBmhHh0KZ/': 'https://instagram.com/p/CyvBmhHh0KZ/', 'https://instagram.com/p/Cykh6F6BkxF/': 'https://instagram.com/p/Cykh6F6BkxF/', 'https://instagram.com/p/Cyflz8yBy27/': 'https://instagram.com/p/Cyflz8yBy27/', 'https://instagram.com/p/CyDT0_pOJbP/': 'https://instagram.com/p/CyDT0_pOJbP/'}\n"
     ]
    }
   ],
   "source": [
    "print(elements_dict)"
   ]
  },
  {
   "cell_type": "code",
   "execution_count": 30,
   "metadata": {},
   "outputs": [],
   "source": [
    "first_key, first_value = next(iter(elements_dict.items()))\n",
    "driver.get(elements_dict[first_value])"
   ]
  },
  {
   "cell_type": "code",
   "execution_count": null,
   "metadata": {},
   "outputs": [],
   "source": [
    "# 각 게시글의 텍스트와 이미지를 추출"
   ]
  }
 ],
 "metadata": {
  "kernelspec": {
   "display_name": "test",
   "language": "python",
   "name": "python3"
  },
  "language_info": {
   "codemirror_mode": {
    "name": "ipython",
    "version": 3
   },
   "file_extension": ".py",
   "mimetype": "text/x-python",
   "name": "python",
   "nbconvert_exporter": "python",
   "pygments_lexer": "ipython3",
   "version": "3.11.5"
  }
 },
 "nbformat": 4,
 "nbformat_minor": 2
}
